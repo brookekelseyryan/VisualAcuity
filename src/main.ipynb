{
 "cells": [
  {
   "cell_type": "code",
   "execution_count": null,
   "metadata": {
    "collapsed": true
   },
   "outputs": [],
   "source": [
    "import os\n",
    "import sys\n",
    "from datetime import datetime\n",
    "\n",
    "import wandb\n",
    "import yaml\n",
    "\n",
    "import model.run as model\n",
    "import data.dataset as ds\n",
    "import util.wb"
   ]
  },
  {
   "cell_type": "code",
   "execution_count": null,
   "outputs": [],
   "source": [
    "print(\"Initiating...\\n\")\n",
    "\n",
    "with open(\"./config/arcus.yaml\", 'r') as y:\n",
    "    print(\"Opening config...\\n\")\n",
    "    config = yaml.load(y)\n",
    "\n",
    "if config['cuda'] is True:\n",
    "    print(\"Setting CUDA device environment variables...\\n\")\n",
    "    os.environ['CUDA_DEVICE_ORDER'] = config['CUDA_DEVICE_ORDER']\n",
    "    os.environ['CUDA_VISIBLE_DEVICES'] = config['CUDA_VISIBLE_DEVICES']"
   ],
   "metadata": {
    "collapsed": false,
    "pycharm": {
     "name": "#%%\n"
    }
   }
  },
  {
   "cell_type": "code",
   "execution_count": null,
   "outputs": [],
   "source": [
    "print(\"Loading training dataset...\\n\")\n",
    "training_dataset = ds.Dataset(config['np_training'])\n",
    "\n",
    "print(\"Loading testing dataset...\\n\")\n",
    "testing_dataset = ds.Dataset(config['np_testing'])"
   ],
   "metadata": {
    "collapsed": false,
    "pycharm": {
     "name": "#%%\n"
    }
   }
  },
  {
   "cell_type": "code",
   "execution_count": null,
   "outputs": [],
   "source": [
    "print(\"Running the model...\\n\")\n",
    "model.run(config, training_dataset, testing_dataset)"
   ],
   "metadata": {
    "collapsed": false,
    "pycharm": {
     "name": "#%%\n"
    }
   }
  }
 ],
 "metadata": {
  "kernelspec": {
   "display_name": "Python 3",
   "language": "python",
   "name": "python3"
  },
  "language_info": {
   "codemirror_mode": {
    "name": "ipython",
    "version": 2
   },
   "file_extension": ".py",
   "mimetype": "text/x-python",
   "name": "python",
   "nbconvert_exporter": "python",
   "pygments_lexer": "ipython2",
   "version": "2.7.6"
  }
 },
 "nbformat": 4,
 "nbformat_minor": 0
}